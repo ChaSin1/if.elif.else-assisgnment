{
 "cells": [
  {
   "cell_type": "code",
   "execution_count": 14,
   "id": "c657d352",
   "metadata": {},
   "outputs": [
    {
     "name": "stdout",
     "output_type": "stream",
     "text": [
      "Enter the units you consumed: 350\n",
      "Your total electricity bill amount is :  2000\n"
     ]
    }
   ],
   "source": [
    "#python program for electricity bill.\n",
    "units = int(input(\"Enter the units you consumed: \"))\n",
    "if units <=100:\n",
    "    Amount = 0\n",
    "    print(\"you dont have to pay any money, 0\")\n",
    "elif units >100 and units <=200:\n",
    "    Amount = 0 + (units-100)*5\n",
    "    print(\"Your Electricity Bill Amount is: \", Amount)\n",
    "else:\n",
    "    Amount = 0 + 500 + (units-200)*10\n",
    "    print(\"Your total electricity bill amount is : \", Amount)"
   ]
  },
  {
   "cell_type": "code",
   "execution_count": 15,
   "id": "07fe6d6e",
   "metadata": {},
   "outputs": [
    {
     "name": "stdout",
     "output_type": "stream",
     "text": [
      "Enter the units consumed by you : 350\n",
      "your final amount of electricity bill is:  6500\n"
     ]
    }
   ],
   "source": [
    "# Charge for the first 100 units – 10*100 = 1000 \n",
    "# Charge for the 100 to 200 units – 15*100 = 1500 \n",
    "# Charge for the 200 to 250 units – 20*50 = 1000 \n",
    "units = int(input(\"Enter the units consumed by you : \"))\n",
    "if units <=100:\n",
    "    amount = (units)*10\n",
    "    print(\"your electricity amount is: \", amount)\n",
    "elif units >100 and units <=200:\n",
    "    amount = (units)*10 + (units-100)*15\n",
    "    print(\"your electricity amount is: \", amount)\n",
    "elif units >200 and units <=250:\n",
    "    amount = (units)*10 + (units-100)*15 + (units-200)*20\n",
    "else:\n",
    "    amount = 1000 + 1500 + 1000 + (units-250)*30\n",
    "    print(\"your final amount of electricity bill is: \", amount)"
   ]
  },
  {
   "cell_type": "markdown",
   "id": "d05549a1",
   "metadata": {},
   "source": [
    "#Write a program to accept percentage from the user and display \n",
    "the grade according to the following criteria"
   ]
  },
  {
   "cell_type": "code",
   "execution_count": 17,
   "id": "ec29674d",
   "metadata": {},
   "outputs": [
    {
     "name": "stdout",
     "output_type": "stream",
     "text": [
      "enter the percentage of user : 59\n",
      "your grade is D\n"
     ]
    }
   ],
   "source": [
    "user_percentage = float(input(\"enter the percentage of user : \"))\n",
    "if user_percentage > 90:\n",
    "    print(\"your grade is A\")\n",
    "elif user_percentage >80 and user_percentage <=90:\n",
    "    print(\"your grade is B\")\n",
    "elif user_percentage >=60 and user_percentage <=80:\n",
    "    print(\"your grade is C\")\n",
    "else:\n",
    "    print(\"your grade is D\")"
   ]
  },
  {
   "cell_type": "markdown",
   "id": "d592a3e6",
   "metadata": {},
   "source": [
    " Accept the age of 4 people and display the youngest one"
   ]
  },
  {
   "cell_type": "code",
   "execution_count": 3,
   "id": "784f28dc",
   "metadata": {},
   "outputs": [
    {
     "name": "stdout",
     "output_type": "stream",
     "text": [
      "enter the age of first person 95\n",
      "enter the age of second person 65\n",
      "enter the age of third person 35\n",
      "enter the age of forth person 25\n",
      "youngest person is 25 years old\n"
     ]
    }
   ],
   "source": [
    "input_1 = int(input(\"enter the age of first person \"))\n",
    "input_2 = int(input(\"enter the age of second person \"))\n",
    "input_3 = int(input(\"enter the age of third person \"))\n",
    "input_4 = int(input(\"enter the age of forth person \"))\n",
    "youngest = min(input_1,input_2,input_3,input_4)\n",
    "print(\"youngest person is\", youngest, \"years old\")"
   ]
  },
  {
   "cell_type": "markdown",
   "id": "f4abec73",
   "metadata": {},
   "source": [
    "A company decided to give bonus to employee \n",
    "according to following criteria"
   ]
  },
  {
   "cell_type": "code",
   "execution_count": 6,
   "id": "332a5d05",
   "metadata": {},
   "outputs": [
    {
     "name": "stdout",
     "output_type": "stream",
     "text": [
      "enter the salary of employee 50000\n",
      "enter the year of service 10\n",
      "your net bonus is  4000.0\n"
     ]
    }
   ],
   "source": [
    "sal = int(input(\"enter the salary of employee \"))\n",
    "ser = int(input(\"enter the year of service \"))\n",
    "if ser <6:\n",
    "    bonus = sal * 5/100\n",
    "elif ser >=6 and ser <=10:\n",
    "    bonus = sal * 8/100\n",
    "elif ser >10:\n",
    "    bonus = sal * 10/100\n",
    "print(\"your net bonus is \", bonus)"
   ]
  },
  {
   "cell_type": "markdown",
   "id": "5ef26274",
   "metadata": {},
   "source": [
    "Accept three numbers from the user and \n",
    "display the second largest number"
   ]
  },
  {
   "cell_type": "code",
   "execution_count": 1,
   "id": "2d0db230",
   "metadata": {},
   "outputs": [
    {
     "name": "stdout",
     "output_type": "stream",
     "text": [
      "enter the age of first no. 20\n",
      "enter the age of second no. 30\n",
      "enter the age of third no. 40\n",
      "30 second largest number is : \n"
     ]
    }
   ],
   "source": [
    "num1 = int(input(\"enter the age of first no. \"))\n",
    "num2 = int(input(\"enter the age of second no. \"))\n",
    "num3 = int(input(\"enter the age of third no. \"))\n",
    "if num1>num2 and num1>num3:\n",
    "    if num2>num3:\n",
    "        print(\" {} second largtest number is : \" .format(num2))\n",
    "    else:\n",
    "        print(\" {} second largest number is : \" .format(num3))\n",
    "elif num2>num1 and num2>num3:\n",
    "    if num1>num3:\n",
    "        print(\"{} second largest number is : \".format(num1))\n",
    "    else:\n",
    "        print(\"{} second largest number is : \".format(num3))\n",
    "else:\n",
    "    if num1>num2:\n",
    "        print(\"{} second largest number is : \".format(num1))\n",
    "    else:\n",
    "        print(\"{} second largest number is : \".format(num2))"
   ]
  },
  {
   "cell_type": "markdown",
   "id": "c1fa51e4",
   "metadata": {},
   "source": [
    " Accept the marked price from the user and calculate\n",
    "the Net amount as (Marked Price – Discount) to pay \n",
    "according to following criteria:"
   ]
  },
  {
   "cell_type": "code",
   "execution_count": 8,
   "id": "2025471c",
   "metadata": {},
   "outputs": [
    {
     "name": "stdout",
     "output_type": "stream",
     "text": [
      "Enter the Marked price of product : 6000\n",
      "your net_amt is :  5400.0\n"
     ]
    }
   ],
   "source": [
    "mp1 = int(input(\"Enter the Marked price of product : \"))\n",
    "if mp1>10000:\n",
    "    discount = mp1 * 20/100\n",
    "elif mp1 >7000 and mp1<=10000:\n",
    "    discount = mp1 * 15/100\n",
    "elif mp1 <=7000:\n",
    "    discount = mp1 * 10/100\n",
    "net_amount = mp1 - discount\n",
    "print(\"your net_amt is : \", net_amount)\n",
    "    "
   ]
  },
  {
   "cell_type": "markdown",
   "id": "fad60163",
   "metadata": {},
   "source": [
    " Accept the marks of English, Math and Science, \n",
    "Social Studies Subject and display the stream allotted \n",
    "according to following"
   ]
  },
  {
   "cell_type": "code",
   "execution_count": null,
   "id": "be7e0533",
   "metadata": {},
   "outputs": [],
   "source": [
    "eng = int(input(\"Enter your english subject marks here : \"))\n",
    "math = int(input(\"Enter your english subject marks here : \"))\n",
    "sci = int(input(\"Enter your english subject marks here : \"))\n",
    "s.s = int(input(\"Enter your english subject marks here : \"))\n",
    "if stream >80:\n",
    "    print(\"you have Got Science Stream : \")\n",
    "    "
   ]
  },
  {
   "cell_type": "markdown",
   "id": "f3d56008",
   "metadata": {},
   "source": [
    "Write a program to display \"Hello\" if a number entered \n",
    "by user is a multiple of five, otherwise print \"Bye\""
   ]
  },
  {
   "cell_type": "code",
   "execution_count": 17,
   "id": "78ad1f8d",
   "metadata": {},
   "outputs": [
    {
     "name": "stdout",
     "output_type": "stream",
     "text": [
      "Please Enter the Number : 4543456545\n",
      "hello\n"
     ]
    }
   ],
   "source": [
    "number = int(input(\"Please Enter the Number : \"))\n",
    "if number % 5 == 0:\n",
    "    print(\"hello\")\n",
    "else:\n",
    "    print(\"bye\")"
   ]
  },
  {
   "cell_type": "markdown",
   "id": "56320f7e",
   "metadata": {},
   "source": [
    "Write a program to check whether the last digit of a number\n",
    "(entered by user) is divisible by 3 or not"
   ]
  },
  {
   "cell_type": "code",
   "execution_count": 20,
   "id": "d279d8bc",
   "metadata": {},
   "outputs": [
    {
     "name": "stdout",
     "output_type": "stream",
     "text": [
      "enter a number who is divisible by 3 : 25\n",
      "False\n"
     ]
    }
   ],
   "source": [
    "number = int(input(\"enter a number who is divisible by 3 : \"))\n",
    "if number % 3 == 0:\n",
    "    print(\"True\")\n",
    "else:\n",
    "    print(\"False\")"
   ]
  },
  {
   "cell_type": "markdown",
   "id": "5a12751b",
   "metadata": {},
   "source": [
    "Write a program to check whether a number entered \n",
    "is three-digit number or not"
   ]
  },
  {
   "cell_type": "code",
   "execution_count": 7,
   "id": "cd9d91b7",
   "metadata": {},
   "outputs": [
    {
     "name": "stdout",
     "output_type": "stream",
     "text": [
      "enter the 3 digits number : 1\n",
      "length of the number is different\n"
     ]
    }
   ],
   "source": [
    "number = input(\"enter the 3 digits number : \")\n",
    "l = len(number)\n",
    "if l == 3:\n",
    "    print(\"length of the number is 3\")\n",
    "else:\n",
    "    print(\"length of the number is different\")"
   ]
  },
  {
   "cell_type": "code",
   "execution_count": 17,
   "id": "a8343422",
   "metadata": {},
   "outputs": [
    {
     "name": "stdout",
     "output_type": "stream",
     "text": [
      "Enter the name of user : CHANDAN RAWAT\n",
      "user name is correct and now enter your password: \n",
      "Enter the password : Chandan@123\n",
      "allow access\n"
     ]
    }
   ],
   "source": [
    "name = \"CHANDAN RAWAT\"\n",
    "password = \"Chandan@123\"\n",
    "\n",
    "input1 = input(\"Enter the name of user : \")\n",
    "if name == input1:\n",
    "    print(\"user name is correct and now enter your password: \")\n",
    "    input2 = input(\"Enter the password : \")\n",
    "    if input2 == password:\n",
    "        print(\"allow access\")    \n",
    "    else:\n",
    "        print(\"access denied\")\n",
    "    \n",
    "else:\n",
    "    print(\"your username is not correct\")\n"
   ]
  },
  {
   "cell_type": "code",
   "execution_count": null,
   "id": "ee2bac65",
   "metadata": {},
   "outputs": [],
   "source": []
  }
 ],
 "metadata": {
  "kernelspec": {
   "display_name": "Python 3 (ipykernel)",
   "language": "python",
   "name": "python3"
  },
  "language_info": {
   "codemirror_mode": {
    "name": "ipython",
    "version": 3
   },
   "file_extension": ".py",
   "mimetype": "text/x-python",
   "name": "python",
   "nbconvert_exporter": "python",
   "pygments_lexer": "ipython3",
   "version": "3.11.5"
  }
 },
 "nbformat": 4,
 "nbformat_minor": 5
}
