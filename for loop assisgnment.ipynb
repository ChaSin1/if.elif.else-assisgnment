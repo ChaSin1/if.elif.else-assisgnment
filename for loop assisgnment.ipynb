{
 "cells": [
  {
   "cell_type": "code",
   "execution_count": 1,
   "id": "fd41646a",
   "metadata": {
    "scrolled": false
   },
   "outputs": [
    {
     "name": "stdout",
     "output_type": "stream",
     "text": [
      "enter a number here : 100\n",
      "100\n",
      "200\n",
      "300\n",
      "400\n",
      "500\n"
     ]
    }
   ],
   "source": [
    "input = int(input(\"enter a number here : \"))\n",
    "for i in range (1,6,1):\n",
    "    print(input*i)\n",
    "    "
   ]
  },
  {
   "cell_type": "code",
   "execution_count": 1,
   "id": "1ff3888a",
   "metadata": {},
   "outputs": [
    {
     "name": "stdout",
     "output_type": "stream",
     "text": [
      "Good Morning\n",
      "Good Morning\n",
      "Good Morning\n",
      "Good Morning\n",
      "Good Morning\n"
     ]
    }
   ],
   "source": [
    "for i in range (1,6):\n",
    "    print(\"Good Morning\")\n"
   ]
  },
  {
   "cell_type": "code",
   "execution_count": 5,
   "id": "cb23bab9",
   "metadata": {},
   "outputs": [
    {
     "name": "stdout",
     "output_type": "stream",
     "text": [
      "Raj Patel: rajpatel@gmail.com\n",
      "Priya Sharma: priyasharma@gmail.com\n",
      "Amit Kumar: amitkumar@gmail.com\n",
      "Neha Singh: nehasingh@gmail.com\n"
     ]
    }
   ],
   "source": [
    "indian_employees = [[\"Raj\", \"Patel\"], [\"Priya\", \"Sharma\"], [\"Amit\", \"Kumar\"], [\"Neha\", \"Singh\"]]\n",
    "\n",
    "for first_name, last_name in indian_employees:\n",
    "    email_address = f\"{first_name.lower()}{last_name.lower()}@gmail.com\"\n",
    "    print(f\"{first_name} {last_name}: {email_address}\")"
   ]
  },
  {
   "cell_type": "code",
   "execution_count": 5,
   "id": "a348b51d",
   "metadata": {},
   "outputs": [
    {
     "name": "stdout",
     "output_type": "stream",
     "text": [
      "Raj Patel: rajpatel@gmail.com\n",
      "Priya Sharma: priyasharma@gmail.com\n",
      "Amit Kumar: amitkumar@gmail.com\n",
      "Neha Singh: nehasingh@gmail.com\n"
     ]
    }
   ],
   "source": [
    "indian_employees = [[\"Raj\", \"Patel\"], [\"Priya\", \"Sharma\"], [\"Amit\", \"Kumar\"], [\"Neha\", \"Singh\"]]\n",
    "for first_name , last_name in indian_employees:\n",
    "    email_address = f\"{first_name.lower()}{last_name.lower()}@gmail.com\"\n",
    "    print(f\"{first_name} {last_name}: {email_address}\")"
   ]
  },
  {
   "cell_type": "code",
   "execution_count": 7,
   "id": "a18ec373",
   "metadata": {},
   "outputs": [
    {
     "name": "stdout",
     "output_type": "stream",
     "text": [
      "Raj Patel: RajPatel@gmail.com\n",
      "Priya Sharma: PriyaSharma@gmail.com\n",
      "Amit Kumar: AmitKumar@gmail.com\n",
      "Neha Singh: NehaSingh@gmail.com\n"
     ]
    }
   ],
   "source": [
    "indian_employees = [[\"Raj\", \"Patel\"], [\"Priya\", \"Sharma\"], [\"Amit\", \"Kumar\"], [\"Neha\", \"Singh\"]]\n",
    "for first_name , last_name in indian_employees:\n",
    "    email_address = f\"{first_name}{last_name}@gmail.com\"\n",
    "    print(f\"{first_name} {last_name}: {email_address}\")"
   ]
  },
  {
   "cell_type": "markdown",
   "id": "b962917f",
   "metadata": {},
   "source": [
    "Write a Python program to print all the numbers from 1 to 10 using a for loop "
   ]
  },
  {
   "cell_type": "code",
   "execution_count": 8,
   "id": "8e367779",
   "metadata": {},
   "outputs": [
    {
     "name": "stdout",
     "output_type": "stream",
     "text": [
      "1\n",
      "2\n",
      "3\n",
      "4\n",
      "5\n",
      "6\n",
      "7\n",
      "8\n",
      "9\n",
      "10\n"
     ]
    }
   ],
   "source": [
    "for i in range (1,11):\n",
    "    print(i)\n"
   ]
  },
  {
   "cell_type": "markdown",
   "id": "46c2d713",
   "metadata": {},
   "source": [
    " Write a Python program to find the sum of all numbers from 1 to 100 using a for loop"
   ]
  },
  {
   "cell_type": "code",
   "execution_count": 13,
   "id": "31520808",
   "metadata": {},
   "outputs": [
    {
     "name": "stdout",
     "output_type": "stream",
     "text": [
      "101\n",
      "103\n",
      "106\n",
      "110\n",
      "115\n",
      "121\n",
      "128\n",
      "136\n",
      "145\n",
      "155\n",
      "166\n",
      "178\n",
      "191\n",
      "205\n",
      "220\n",
      "236\n",
      "253\n",
      "271\n",
      "290\n",
      "310\n",
      "331\n",
      "353\n",
      "376\n",
      "400\n",
      "425\n",
      "451\n",
      "478\n",
      "506\n",
      "535\n",
      "565\n",
      "596\n",
      "628\n",
      "661\n",
      "695\n",
      "730\n",
      "766\n",
      "803\n",
      "841\n",
      "880\n",
      "920\n",
      "961\n",
      "1003\n",
      "1046\n",
      "1090\n",
      "1135\n",
      "1181\n",
      "1228\n",
      "1276\n",
      "1325\n",
      "1375\n",
      "1426\n",
      "1478\n",
      "1531\n",
      "1585\n",
      "1640\n",
      "1696\n",
      "1753\n",
      "1811\n",
      "1870\n",
      "1930\n",
      "1991\n",
      "2053\n",
      "2116\n",
      "2180\n",
      "2245\n",
      "2311\n",
      "2378\n",
      "2446\n",
      "2515\n",
      "2585\n",
      "2656\n",
      "2728\n",
      "2801\n",
      "2875\n",
      "2950\n",
      "3026\n",
      "3103\n",
      "3181\n",
      "3260\n",
      "3340\n",
      "3421\n",
      "3503\n",
      "3586\n",
      "3670\n",
      "3755\n",
      "3841\n",
      "3928\n",
      "4016\n",
      "4105\n",
      "4195\n",
      "4286\n",
      "4378\n",
      "4471\n",
      "4565\n",
      "4660\n",
      "4756\n",
      "4853\n",
      "4951\n",
      "5050\n",
      "5150\n"
     ]
    }
   ],
   "source": [
    "total_sum = 100\n",
    "for num in range (1,101):\n",
    "    total_sum +=num\n",
    "    print(total_sum)\n",
    "    \n",
    "    \n",
    "\n"
   ]
  },
  {
   "cell_type": "markdown",
   "id": "3fdc2a57",
   "metadata": {},
   "source": [
    "Write a Python program to print the multiplication table of a given number using a or loop"
   ]
  },
  {
   "cell_type": "code",
   "execution_count": 4,
   "id": "4a47c5a4",
   "metadata": {
    "scrolled": true
   },
   "outputs": [
    {
     "name": "stdout",
     "output_type": "stream",
     "text": [
      "Enter a Number Here : 15\n",
      "15 * 1 = 15\n",
      "15 * 2 = 30\n",
      "15 * 3 = 45\n",
      "15 * 4 = 60\n",
      "15 * 5 = 75\n",
      "15 * 6 = 90\n",
      "15 * 7 = 105\n",
      "15 * 8 = 120\n",
      "15 * 9 = 135\n",
      "15 * 10 = 150\n"
     ]
    }
   ],
   "source": [
    "num = int(input(\"Enter a Number Here : \"))\n",
    "for i in range (1,11):\n",
    "    print(num, \"*\", i, \"=\", num*i)"
   ]
  },
  {
   "cell_type": "markdown",
   "id": "c97c6b63",
   "metadata": {},
   "source": [
    "Write a Python program to count the number of even and odd numbers from a series of numbers using a for loop "
   ]
  },
  {
   "cell_type": "code",
   "execution_count": 5,
   "id": "dc98e9db",
   "metadata": {},
   "outputs": [
    {
     "name": "stdout",
     "output_type": "stream",
     "text": [
      "Even numbers in the list:  6\n",
      "odd numbers in the list:  7\n"
     ]
    }
   ],
   "source": [
    "list = [3,15,20,36,29,68,85,54,99,74,56,\n",
    "       87,41]\n",
    "even = 0\n",
    "odd = 0\n",
    "for num in list:\n",
    "    if num%2 ==0:\n",
    "        even += 1\n",
    "    else:\n",
    "        odd += 1\n",
    "print(\"Even numbers in the list: \", even)\n",
    "print(\"odd numbers in the list: \", odd)\n"
   ]
  },
  {
   "cell_type": "markdown",
   "id": "3aa3ccd0",
   "metadata": {},
   "source": [
    "Find even and odd from this list: [1,2, 3, 4, 5, 6, 7, 8, 9, 10]"
   ]
  },
  {
   "cell_type": "code",
   "execution_count": 6,
   "id": "f38c9380",
   "metadata": {},
   "outputs": [
    {
     "name": "stdout",
     "output_type": "stream",
     "text": [
      "Even numbers in the list:  5\n",
      "odd numbers in the list:  5\n"
     ]
    }
   ],
   "source": [
    "list= [1,2, 3, 4, 5, 6, 7, 8, 9, 10]\n",
    "even = 0\n",
    "odd = 0\n",
    "for num in list:\n",
    "    if num%2 ==0:\n",
    "        even +=1\n",
    "    else:\n",
    "        odd +=1\n",
    "print(\"Even numbers in the list: \", even)\n",
    "print(\"odd numbers in the list: \", odd)\n",
    "    \n",
    "    \n",
    "    "
   ]
  },
  {
   "cell_type": "markdown",
   "id": "4fbaaec5",
   "metadata": {},
   "source": [
    "Write a Python program to find the factorial of a number using a for loop "
   ]
  },
  {
   "cell_type": "code",
   "execution_count": 7,
   "id": "9ace5051",
   "metadata": {},
   "outputs": [
    {
     "name": "stdout",
     "output_type": "stream",
     "text": [
      "Enter a Number: 5\n",
      "Factorial of the given number is:  120\n"
     ]
    }
   ],
   "source": [
    "num = int(input(\"Enter a Number: \"))\n",
    "factorial = 1\n",
    "if num<0:\n",
    "    print(\"Factorial does not exist\")\n",
    "if num == 0:\n",
    "    print(\"Factorial of o is 1 \")\n",
    "if num>=1:\n",
    "    for i in range (1,num+1):\n",
    "        factorial = factorial *i\n",
    "print(\"Factorial of the given number is: \", factorial)"
   ]
  },
  {
   "cell_type": "markdown",
   "id": "c6260424",
   "metadata": {},
   "source": [
    "Write a Python program to print the Fibonacci sequence up to a specified number using a for loop"
   ]
  },
  {
   "cell_type": "code",
   "execution_count": 8,
   "id": "f2c91114",
   "metadata": {},
   "outputs": [
    {
     "name": "stdout",
     "output_type": "stream",
     "text": [
      "Enter a Number: 10\n",
      "0\n",
      "1\n",
      "1\n",
      "2\n",
      "3\n",
      "5\n",
      "8\n"
     ]
    }
   ],
   "source": [
    "n = int(input(\"Enter a Number: \"))\n",
    "x= 0\n",
    "y=1\n",
    "z=0\n",
    "while z<=n:\n",
    "    print(z)\n",
    "    x=y\n",
    "    y=z\n",
    "    z=x+y\n",
    "    "
   ]
  },
  {
   "cell_type": "markdown",
   "id": "62cd6ac4",
   "metadata": {},
   "source": [
    "Write a Python program to check if a given number is prime or not using a for loop."
   ]
  },
  {
   "cell_type": "code",
   "execution_count": 10,
   "id": "6399abbd",
   "metadata": {},
   "outputs": [
    {
     "name": "stdout",
     "output_type": "stream",
     "text": [
      "Enter a Number Here: 33\n",
      "its not a prime number\n"
     ]
    }
   ],
   "source": [
    "num = int(input(\"Enter a Number Here: \"))\n",
    "if num == 1:\n",
    "    print(\"it is not a prime number \")\n",
    "elif num >1:\n",
    "    for i in range (2,num):\n",
    "        if num % i == 0:\n",
    "            print(\"its not a prime number\")\n",
    "            break\n",
    "    else:\n",
    "        print(\"its prime number: \")"
   ]
  },
  {
   "cell_type": "markdown",
   "id": "260aa3bd",
   "metadata": {},
   "source": [
    "Write a Python program to find the largest element in a list using a for loop."
   ]
  },
  {
   "cell_type": "code",
   "execution_count": 20,
   "id": "c429858b",
   "metadata": {},
   "outputs": [
    {
     "name": "stdout",
     "output_type": "stream",
     "text": [
      "Enter the Size of the List: 3\n",
      "Enter the Number: 97\n",
      "Enter the Number: 455\n",
      "Enter the Number: 4\n",
      "Max number =  455\n"
     ]
    }
   ],
   "source": [
    "a = []\n",
    "size = int(input(\"Enter the Size of the List: \"))\n",
    "for i in range(size):\n",
    "    value = int(input(\"Enter the Number: \"))\n",
    "    a.append(value)\n",
    "max = a[0]\n",
    "for i in range(size):\n",
    "    if(a[i]>max):\n",
    "        max = a[i]\n",
    "print(\"Max number = \", max)        "
   ]
  },
  {
   "cell_type": "code",
   "execution_count": 25,
   "id": "55f17718",
   "metadata": {},
   "outputs": [
    {
     "name": "stdout",
     "output_type": "stream",
     "text": [
      "Enter the size of List: 5\n",
      "Enter the Number: 98\n",
      "Enter the Number: 45\n",
      "Enter the Number: 27\n",
      "Enter the Number: 67\n",
      "Enter the Number: 81\n",
      "Maximum Number is:  98\n"
     ]
    }
   ],
   "source": [
    "a = []\n",
    "size = int(input(\"Enter the size of List: \"))\n",
    "for i in range(size):\n",
    "    value = int(input(\"Enter the Number: \"))\n",
    "    a.append(value)\n",
    "max = a[0]\n",
    "for i in range(size):\n",
    "    if(a[i]>max):\n",
    "        max=a[i]\n",
    "print(\"Maximum Number is: \", max)        "
   ]
  },
  {
   "cell_type": "markdown",
   "id": "d8692f58",
   "metadata": {},
   "source": [
    "Write a Python program to reverse a given string using a for loop."
   ]
  },
  {
   "cell_type": "code",
   "execution_count": 2,
   "id": "66c6b073",
   "metadata": {},
   "outputs": [
    {
     "name": "stdout",
     "output_type": "stream",
     "text": [
      "Enter the Size of List: 4\n",
      "Enter the Number: 55\n",
      "Enter the Number: 6\n",
      "Enter the Number: 89\n",
      "Enter the Number: 28\n",
      "List after Reverse: \n",
      "28\n",
      "89\n",
      "6\n",
      "55\n"
     ]
    }
   ],
   "source": [
    "a = []\n",
    "size = int(input(\"Enter the Size of List: \"))\n",
    "for i in range(size):\n",
    "    value = int(input(\"Enter the Number: \"))\n",
    "    a.append(value)\n",
    "i = 0\n",
    "j = size-1\n",
    "while (i < j):\n",
    "    t = a[i]\n",
    "    a[i] = a[j]\n",
    "    a[j] = t\n",
    "    i=i+1\n",
    "    j=j-1\n",
    "print(\"List after Reverse: \", )\n",
    "for i in range(size):\n",
    "    print(a[i])"
   ]
  },
  {
   "cell_type": "markdown",
   "id": "cb717246",
   "metadata": {},
   "source": [
    "Write a Python program to find the common elements between two lists using a\n",
    "for loop"
   ]
  },
  {
   "cell_type": "code",
   "execution_count": null,
   "id": "e9111666",
   "metadata": {},
   "outputs": [],
   "source": []
  }
 ],
 "metadata": {
  "kernelspec": {
   "display_name": "Python 3 (ipykernel)",
   "language": "python",
   "name": "python3"
  },
  "language_info": {
   "codemirror_mode": {
    "name": "ipython",
    "version": 3
   },
   "file_extension": ".py",
   "mimetype": "text/x-python",
   "name": "python",
   "nbconvert_exporter": "python",
   "pygments_lexer": "ipython3",
   "version": "3.11.5"
  }
 },
 "nbformat": 4,
 "nbformat_minor": 5
}
